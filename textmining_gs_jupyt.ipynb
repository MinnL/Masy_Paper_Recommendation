{
 "cells": [
  {
   "cell_type": "code",
   "execution_count": 1,
   "metadata": {},
   "outputs": [
    {
     "name": "stdout",
     "output_type": "stream",
     "text": [
      "Requirement already up-to-date: pip in /Library/Frameworks/Python.framework/Versions/3.7/lib/python3.7/site-packages (19.2.3)\n",
      "Requirement already satisfied: scholarly in /Library/Frameworks/Python.framework/Versions/3.7/lib/python3.7/site-packages (0.2.5)\n",
      "Requirement already satisfied: arrow in /Library/Frameworks/Python.framework/Versions/3.7/lib/python3.7/site-packages (from scholarly) (0.14.4)\n",
      "Requirement already satisfied: requests[security] in /Library/Frameworks/Python.framework/Versions/3.7/lib/python3.7/site-packages (from scholarly) (2.20.1)\n",
      "Requirement already satisfied: bibtexparser in /Library/Frameworks/Python.framework/Versions/3.7/lib/python3.7/site-packages (from scholarly) (1.1.0)\n",
      "Requirement already satisfied: beautifulsoup4 in /Library/Frameworks/Python.framework/Versions/3.7/lib/python3.7/site-packages (from scholarly) (4.8.0)\n",
      "Requirement already satisfied: python-dateutil in /Library/Frameworks/Python.framework/Versions/3.7/lib/python3.7/site-packages (from arrow->scholarly) (2.7.3)\n",
      "Requirement already satisfied: chardet<3.1.0,>=3.0.2 in /Library/Frameworks/Python.framework/Versions/3.7/lib/python3.7/site-packages (from requests[security]->scholarly) (3.0.4)\n",
      "Requirement already satisfied: idna<2.8,>=2.5 in /Library/Frameworks/Python.framework/Versions/3.7/lib/python3.7/site-packages (from requests[security]->scholarly) (2.7)\n",
      "Requirement already satisfied: certifi>=2017.4.17 in /Library/Frameworks/Python.framework/Versions/3.7/lib/python3.7/site-packages (from requests[security]->scholarly) (2018.10.15)\n",
      "Requirement already satisfied: urllib3<1.25,>=1.21.1 in /Library/Frameworks/Python.framework/Versions/3.7/lib/python3.7/site-packages (from requests[security]->scholarly) (1.24.1)\n",
      "Requirement already satisfied: pyOpenSSL>=0.14; extra == \"security\" in /Library/Frameworks/Python.framework/Versions/3.7/lib/python3.7/site-packages (from requests[security]->scholarly) (19.0.0)\n",
      "Requirement already satisfied: cryptography>=1.3.4; extra == \"security\" in /Library/Frameworks/Python.framework/Versions/3.7/lib/python3.7/site-packages (from requests[security]->scholarly) (2.7)\n",
      "Requirement already satisfied: pyparsing>=2.0.3 in /Library/Frameworks/Python.framework/Versions/3.7/lib/python3.7/site-packages (from bibtexparser->scholarly) (2.2.2)\n",
      "Requirement already satisfied: future>=0.16.0 in /Library/Frameworks/Python.framework/Versions/3.7/lib/python3.7/site-packages (from bibtexparser->scholarly) (0.17.1)\n",
      "Requirement already satisfied: soupsieve>=1.2 in /Library/Frameworks/Python.framework/Versions/3.7/lib/python3.7/site-packages (from beautifulsoup4->scholarly) (1.9.2)\n",
      "Requirement already satisfied: six>=1.5 in /Library/Frameworks/Python.framework/Versions/3.7/lib/python3.7/site-packages (from python-dateutil->arrow->scholarly) (1.11.0)\n",
      "Requirement already satisfied: cffi!=1.11.3,>=1.8 in /Library/Frameworks/Python.framework/Versions/3.7/lib/python3.7/site-packages (from cryptography>=1.3.4; extra == \"security\"->requests[security]->scholarly) (1.12.3)\n",
      "Requirement already satisfied: asn1crypto>=0.21.0 in /Library/Frameworks/Python.framework/Versions/3.7/lib/python3.7/site-packages (from cryptography>=1.3.4; extra == \"security\"->requests[security]->scholarly) (0.24.0)\n",
      "Requirement already satisfied: pycparser in /Library/Frameworks/Python.framework/Versions/3.7/lib/python3.7/site-packages (from cffi!=1.11.3,>=1.8->cryptography>=1.3.4; extra == \"security\"->requests[security]->scholarly) (2.19)\n"
     ]
    }
   ],
   "source": [
    "import sys\n",
    "!{sys.executable} -m pip install --upgrade pip\n",
    "!{sys.executable} -m pip install scholarly"
   ]
  },
  {
   "cell_type": "code",
   "execution_count": 2,
   "metadata": {},
   "outputs": [
    {
     "name": "stdout",
     "output_type": "stream",
     "text": [
      "Requirement already satisfied: nltk in /Library/Frameworks/Python.framework/Versions/3.7/lib/python3.7/site-packages (3.4.4)\n",
      "Requirement already satisfied: six in /Library/Frameworks/Python.framework/Versions/3.7/lib/python3.7/site-packages (from nltk) (1.11.0)\n"
     ]
    }
   ],
   "source": [
    "!{sys.executable} -m pip install nltk\n",
    "\n",
    "!{sys.executable} -m pip install sklearn\n",
    "\n",
    "!{sys.executable} -m pip install stemming"
   ]
  },
  {
   "cell_type": "code",
   "execution_count": 1,
   "metadata": {},
   "outputs": [],
   "source": [
    "import scholarly\n",
    "from sklearn.feature_extraction import text\n",
    "from sklearn.metrics.pairwise import cosine_similarity\n",
    "import pandas as pd\n",
    "import numpy as np\n",
    "from stemming.porter2 import stem"
   ]
  },
  {
   "cell_type": "code",
   "execution_count": 2,
   "metadata": {},
   "outputs": [
    {
     "name": "stdout",
     "output_type": "stream",
     "text": [
      "What do you want to search on Google Schoalr?automatic drum\n"
     ]
    }
   ],
   "source": [
    "sq = input('What do you want to search on Google Schoalr?')"
   ]
  },
  {
   "cell_type": "code",
   "execution_count": 3,
   "metadata": {},
   "outputs": [
    {
     "name": "stdout",
     "output_type": "stream",
     "text": [
      "PaperID: 1\n",
      "Title: Automatic drum transcription and source separation\n",
      "Abstract: While research has been carried out on automated polyphonic music transcription, to-date the problem of automated polyphonic percussion transcription has not received the same degree of attention. A related problem is that of sound source separation, which attempts to …\n",
      "PaperID: 2\n",
      "Title: Automatic Drum Sound Description for Real-World Music Using Template Adaptation and Matching Methods.\n",
      "Abstract: This paper presents an automatic description system of drum sounds for real-world musical audio signals. Our system can represent onset times and names of drums by means of drum descriptors defined in the context of MPEG-7. For their automatic description, drum sounds …\n",
      "PaperID: 3\n",
      "Title: Automatic Drum Transcription Using Bi-Directional Recurrent Neural Networks.\n",
      "Abstract: Automatic drum transcription (ADT) systems attempt to generate a symbolic music notation for percussive instruments in audio recordings. Neural networks have already been shown to perform well in fields related to ADT such as source separation and onset detection due to …\n",
      "PaperID: 4\n",
      "Title: Automatic transcription of drum loops\n",
      "Abstract: Recent efforts in audio indexing and retrieval in music databases mostly focus on melody. If this is appropriate for polyphonic music signals, specific approaches are needed for systems dealing with percussive audio signals such as those produced by drums, tabla or djembe …\n",
      "PaperID: 5\n",
      "Title: On automatic drum transcription using non-negative matrix deconvolution and itakura saito divergence\n",
      "Abstract: This paper presents an investigation into the detection and classification of drum sounds in polyphonic music and drum loops using non-negative matrix deconvolution (NMD) and the Itakura Saito divergence. The Itakura Saito divergence has recently been proposed as …\n",
      "PaperID: 6\n",
      "Title: Automatic classification of drum sounds: a comparison of feature selection methods and classification techniques\n",
      "Abstract: We present a comparative evaluation of automatic classification of a sound database containing more than six hundred drum sounds (kick, snare, hihat, toms and cymbals). A preliminary set of fifty descriptors has been refined with the help of different techniques and …\n",
      "PaperID: 7\n",
      "Title: ENST-Drums: an extensive audio-visual database for drum signals processing.\n",
      "Abstract: … Keywords: Research database, Automatic drum transcrip- tion, Drum event detection in polyphonic\n",
      "music, Source sep- aration, Multimodal music transcription … The ENST-Drums database is a large\n",
      "and varied research database for automatic drum transcription and processing … \n",
      "\n",
      "PaperID: 8\n",
      "Title: Automatic rotation indexing and masking of drum change device with manual release of the masking shutters\n",
      "Abstract: A toy game machine is disclosed which includes a plurality of rotatable display drums each bearing suitable combinations of symbols on its peripheral surface and as many display windows as there are such drums for exposing to view therethrough the symbols which have …\n",
      "PaperID: 9\n",
      "Title: Automatic extraction of drum tracks from polyphonic music signals\n",
      "Abstract: We propose an approach for extracting automatically time indexes of occurrences of percussive sounds in an audio signal taken from the popular music repertoire. The scheme is able to detect percussive sounds unknown a priori in a selective fashion. It is based on an …\n",
      "PaperID: 10\n",
      "Title: Drum magazine for automatic pistol or the like\n",
      "Abstract: A cartridge feeding drum magazine for use with semiautomatic or full-automatic firearms such as pistols or submachine guns. A rotor is provided within a drum housing to define an annular cartridge-receiving channel, and a magazine extension joins the drum at 90 thereto …\n",
      "PaperID: 11\n",
      "Title: An automatic drum scanning system for the measurement of plutonium in waste\n",
      "Abstract: A method is described for locating and estimating the plutonium content of waste drums, without the need for opening the drums. The method relies upon the measurement of the 384 keV γ-radiation from 239 Pu and uses a simple form of γ-spectrometer and a drum  …\n",
      "PaperID: 12\n",
      "Title: Automatic drum tuner\n",
      "Abstract: Methods and systems for automatically tuning a drum are disclosed. In some embodiments, the methods and systems include the following:(a) exciting a drum head to cause it to resonate;(b) sensing a vibration frequency at one or more points relative to each tension …\n",
      "PaperID: 13\n",
      "Title: Drum transcription with non-negative spectrogram factorisation\n",
      "Abstract: … One of the earliest works on automatic drum transcription was by Schloss, whose system\n",
      "transcribed percussion-only music in which only one instrument is present at a time [12] … 2003.\n",
      "[4] O. Gillet and G. Richard. Automatic transcription of drum loops. In Proc … \n",
      "\n",
      "PaperID: 14\n",
      "Title: Portable automatic drum filling apparatus\n",
      "Abstract: A portable automatic drum filling apparatus including a movable cabinet and a combination filling nozzle and product level detecting assembly, wherein the cabinet includes a product control valve having an inlet connected to a product supply and an outlet connected to the …\n",
      "PaperID: 15\n",
      "Title: Safe and semi-automatic removal of heavy drum closures\n",
      "Abstract: In a coke drum an outlet arrangement is provided which allows removal of the coke from the drum without endangering the health or safety of workers heading or unheading the coke drum. Instead of using a manually removable bottom flange for the drum, a semiautomatic …\n",
      "PaperID: 16\n",
      "Title: Automatic Drum Transcription for Polyphonic Recordings Using Soft Attention Mechanisms and Convolutional Neural Networks.\n",
      "Abstract: Automatic drum transcription is the process of generating symbolic notation for percussion instruments within audio recordings. To date, recurrent neural network (RNN) systems have achieved the highest evaluation accuracies for both drum solo and polyphonic recordings …\n",
      "PaperID: 17\n",
      "Title: Exploration of techniques for automatic labeling of audio drum tracks instruments\n",
      "Abstract: We report on the progress of current work regarding the automatic recognition of percussive instruments embedded in audio excerpts of performances on drum sets. Content-based transformation of audio drum tracks and loops requires the identification of the instruments …\n",
      "PaperID: 18\n",
      "Title: Coke drum semi automatic top deheader\n",
      "Abstract: A semi automatic coke drum deheader device for use on a coke drum wherein the coke drum includes an upper opening, a flange surrounding the upper opening and a first vessel cover releasably attached to the flange. The deheader device comprises a frame attached to …\n",
      "PaperID: 19\n",
      "Title: Automatic transcription of drum sequences using audiovisual features\n",
      "Abstract: The transcription of a musical performance from the audio signal is often problematic, either because it requires the separation of complex sources, or simply because some important high-level music information cannot be directly extracted from the audio signal. We propose …\n",
      "PaperID: 20\n",
      "Title: Safe and semi-automatic removal of heavy drum closures\n",
      "Abstract: In a coke drum an outlet arrangement is provided which allows removal of the coke from the drum without endangering the health or safety of workers heading or unheading the coke drum. Instead of using a manually removable bottom flange for the drum, a semiautomatic …\n",
      "PaperID: 21\n",
      "Title: A review of automatic drum transcription\n",
      "Abstract: In Western popular music, drums and percussion are an important means to emphasize and shape the rhythm, often defining the musical style. If computers were able to analyze the drum part in recorded music, it would enable a variety of rhythm-related music processing …\n",
      "PaperID: 22\n",
      "Title: Automatic venting drum cap and valve assembly\n",
      "Abstract: This invention relates generally to an auto matic venting dium cap and valve assembly aS is frequently used in connection. With the de cantation of fluids, from a drum type closure having a drain valve opening therein. More: Specifically, the present invention re lates to a …\n",
      "PaperID: 23\n",
      "Title: MDB DRUMS-an annotated subset of medleydb for automatic drum transcription\n",
      "Abstract: In this paper we present MDB Drums, a new dataset for automatic drum transcription (ADT) tasks. This dataset is built on top of the MusicDelta subset of the MedleyDB dataset, taking advantage of real-world recordings in multitrack format. The dataset is comprised of a variety …\n",
      "PaperID: 24\n",
      "Title: Automatic Drum Transcription Using the Student-Teacher Learning Paradigm with Unlabeled Music Data.\n",
      "Abstract: Automatic drum transcription is a sub-task of automatic music transcription that converts drum-related audio events into musical notation. While noticeable progress has been made in the past by combining pattern recognition methods with audio signal processing …\n",
      "PaperID: 25\n",
      "Title: Automatic set-up, collapsible electronic drum set\n",
      "Abstract: An automatic set-up, collapsible drum set comprising a base, an upright, and a swing arm assembly each of which is hingedly connected to the next. A seat assembly, a locking mechanism, and a stick compartment are optionally provided so that the percussionist need …\n",
      "PaperID: 26\n",
      "Title: Drum transcription from polyphonic music with recurrent neural networks\n",
      "Abstract: … ABSTRACT Automatic drum transcription methods aim at extracting a symbolic representation\n",
      "of notes played by a drum kit in au- dio recordings … Index Terms- Drum transcription, neural\n",
      "networks, deep learning, automatic transcription, data augmentation 1. INTRODUCTION … \n",
      "\n",
      "PaperID: 27\n",
      "Title: Double-drum washing machine with sliding doors\n",
      "Abstract: … D06F37/30—Driving arrangements; D06F37/302—Automatic drum positioning. Description. Oct …\n",
      "Cam latching mechanism for a parts washer. FR2772798A1 (en) *, 1997-12-23, 1999-06-25,\n",
      "Electrolux Syst Blanchisserie, Washing machine crew of a drum door automatic opening … \n",
      "\n",
      "PaperID: 28\n",
      "Title: Automatic drum rotation control concrete transit mixer truck\n",
      "Abstract: A concrete transit mixer truck includes a control system that automatically controls rotation of the mixer drum at a constant drum speed when the mixer truck is traveling. When sensed speed of the truck exceeds a threshold, the control system automatically causes a hydraulic …\n",
      "PaperID: 29\n",
      "Title: Clutch drum for automatic automotive transmission\n",
      "Abstract: A clutch drum for an automatic transmission features a large diameter portion in which a plurality of first slots define castle-like projections about one end thereon and a second set of slots which originate in the projections near the tops thereof and which extend to and …\n",
      "PaperID: 30\n",
      "Title: Sewer augering machine with automatic feed mechanism and interchangeable drum means\n",
      "Abstract: This invention 'relates generally to sewer angering machines for cleaning and removing obstructions from pipes and conduits 'and more particularly to an auto matic feeding mechanism and a pivotal frame structure for such sewer angering machines. The sewer …\n"
     ]
    }
   ],
   "source": [
    "search_query = scholarly.search_pubs_query(sq)\n",
    "\n",
    "# create title_list\n",
    "t = []\n",
    "# create abstract_list\n",
    "a = []\n",
    "\n",
    "# get google scholar title and abstract\n",
    "limit = 30\n",
    "for index, item in enumerate(search_query,1):\n",
    "    # a.append('PaperID: ' + str(index) + 'Title: ' + item.bib['title'] + 'Abstract: ' + item.bib['abstract'])\n",
    "    print('PaperID: ' + str(index))\n",
    "    t.append(item.bib['title'])\n",
    "    print('Title: ' + item.bib['title'])\n",
    "    if 'abstract' in item.bib:\n",
    "        a.append(item.bib['abstract'])\n",
    "        print('Abstract: ' + item.bib['abstract'])\n",
    "    else:\n",
    "        a.append('none')\n",
    "        print('Abstract: ' + 'none')\n",
    "    if index == limit:\n",
    "        break"
   ]
  },
  {
   "cell_type": "code",
   "execution_count": 4,
   "metadata": {},
   "outputs": [
    {
     "name": "stdout",
     "output_type": "stream",
     "text": [
      "Enter 5 to 10 PaperID with space between each other: 3 5 13\n",
      "The paper you choose are: \n",
      "Automatic Drum Transcription Using Bi-Directional Recurrent Neural Networks.\n",
      "On automatic drum transcription using non-negative matrix deconvolution and itakura saito divergence\n",
      "Drum transcription with non-negative spectrogram factorisation\n"
     ]
    }
   ],
   "source": [
    "# show selected paper title\n",
    "x = [int(x) for x in input(\"Enter 5 to 10 PaperID with space between each other: \").split()]\n",
    "print(\"The paper you choose are: \")\n",
    "for index, item in enumerate(x):\n",
    "    print(t[item-1])"
   ]
  },
  {
   "cell_type": "code",
   "execution_count": 5,
   "metadata": {},
   "outputs": [],
   "source": [
    "# get selected abstract\n",
    "sa =[]\n",
    "for index, item in enumerate(x):\n",
    "    sa.append(a[item-1])\n",
    "#print(sa) \n",
    "\n",
    "# get abstract excluded from selected item\n",
    "x.sort(reverse=True)\n",
    "for index,item in enumerate(x):\n",
    "    a.pop(item-1)\n",
    "    t.pop(item-1)\n",
    "#print(a)\n",
    "#print(t)\n",
    "\n",
    "# make non-selected articles a data frame for calculation\n",
    "ta_df = pd.DataFrame({'Title': t, 'Abstract': a})"
   ]
  },
  {
   "cell_type": "code",
   "execution_count": 6,
   "metadata": {},
   "outputs": [
    {
     "name": "stdout",
     "output_type": "stream",
     "text": [
      "<class 'pandas.core.frame.DataFrame'>\n",
      "RangeIndex: 27 entries, 0 to 26\n",
      "Data columns (total 2 columns):\n",
      "Title       27 non-null object\n",
      "Abstract    27 non-null object\n",
      "dtypes: object(2)\n",
      "memory usage: 512.0+ bytes\n"
     ]
    }
   ],
   "source": [
    "ta_df.info()"
   ]
  },
  {
   "cell_type": "code",
   "execution_count": 7,
   "metadata": {},
   "outputs": [],
   "source": [
    "# combine 2 lists to one\n",
    "s = \" \"\n",
    "sa = s.join(sa)\n",
    "\n",
    "ca = a\n",
    "ca.append(sa)"
   ]
  },
  {
   "cell_type": "code",
   "execution_count": 8,
   "metadata": {},
   "outputs": [
    {
     "name": "stdout",
     "output_type": "stream",
     "text": [
      "(28, 402)\n"
     ]
    }
   ],
   "source": [
    "# Stopwords\n",
    "my_additional_stop_words =[\"author\",\"and\",\"of\",\"the\",\"research\",\"\\n\"]\n",
    "stop_words = text.ENGLISH_STOP_WORDS.union(my_additional_stop_words)\n",
    "\n",
    "# STEM\n",
    "ca = [[stem(word)for word in sentence.split(\" \")]for sentence in ca]\n",
    "#print(ca)\n",
    "\n",
    "# from lists of list to strings of list\n",
    "y = len(ca)\n",
    "for i in range(0,y):\n",
    "    ca[i]=\" \".join(ca[i])\n",
    "\n",
    "# build tf-idf matrix\n",
    "tfidf = text.TfidfVectorizer(input=ca,stop_words=stop_words,analyzer='word',lowercase=True)\n",
    "matrix=tfidf.fit_transform(ca)\n",
    "print(matrix.shape)\n",
    "#matrix.shape\n",
    "\n",
    "# calculate similarity score\n",
    "sim_unigram = cosine_similarity(matrix)\n",
    "# print(type)"
   ]
  },
  {
   "cell_type": "code",
   "execution_count": 9,
   "metadata": {},
   "outputs": [
    {
     "data": {
      "text/plain": [
       "numpy.ndarray"
      ]
     },
     "execution_count": 9,
     "metadata": {},
     "output_type": "execute_result"
    }
   ],
   "source": [
    "type(sim_unigram)"
   ]
  },
  {
   "cell_type": "code",
   "execution_count": 10,
   "metadata": {},
   "outputs": [
    {
     "name": "stderr",
     "output_type": "stream",
     "text": [
      "/Library/Frameworks/Python.framework/Versions/3.7/lib/python3.7/site-packages/ipykernel_launcher.py:3: FutureWarning: \n",
      "Passing list-likes to .loc or [] with any missing label will raise\n",
      "KeyError in the future, you can use .reindex() as an alternative.\n",
      "\n",
      "See the documentation here:\n",
      "https://pandas.pydata.org/pandas-docs/stable/indexing.html#deprecate-loc-reindex-listlike\n",
      "  This is separate from the ipykernel package so we can avoid doing imports until\n"
     ]
    }
   ],
   "source": [
    "# build function to get similar score for all papers by locating them\n",
    "def get_similar_papers(x):\n",
    "    return ta_df.loc[np.argsort(-x)]\n",
    "\n",
    "recomPaper = get_similar_papers(sim_unigram[-1])\n",
    "#print(recomPaper)\n",
    "\n",
    "sim_unigram[-1][::-1].sort() #descending\n",
    "# sim_unigram[-1].sort() #ascending\n",
    "\n",
    "#print(sim_unigram[-1])\n",
    "\n",
    "recomPaper[\"similar_score\"]=sim_unigram[-1]"
   ]
  },
  {
   "cell_type": "code",
   "execution_count": 11,
   "metadata": {},
   "outputs": [
    {
     "data": {
      "text/html": [
       "<div>\n",
       "<style scoped>\n",
       "    .dataframe tbody tr th:only-of-type {\n",
       "        vertical-align: middle;\n",
       "    }\n",
       "\n",
       "    .dataframe tbody tr th {\n",
       "        vertical-align: top;\n",
       "    }\n",
       "\n",
       "    .dataframe thead th {\n",
       "        text-align: right;\n",
       "    }\n",
       "</style>\n",
       "<table border=\"1\" class=\"dataframe\">\n",
       "  <thead>\n",
       "    <tr style=\"text-align: right;\">\n",
       "      <th></th>\n",
       "      <th>Title</th>\n",
       "      <th>Abstract</th>\n",
       "      <th>similar_score</th>\n",
       "    </tr>\n",
       "  </thead>\n",
       "  <tbody>\n",
       "    <tr>\n",
       "      <th>27</th>\n",
       "      <td>NaN</td>\n",
       "      <td>NaN</td>\n",
       "      <td>1.000000</td>\n",
       "    </tr>\n",
       "    <tr>\n",
       "      <th>12</th>\n",
       "      <td>Automatic Drum Transcription for Polyphonic Re...</td>\n",
       "      <td>Automatic drum transcription is the process of...</td>\n",
       "      <td>0.292948</td>\n",
       "    </tr>\n",
       "    <tr>\n",
       "      <th>1</th>\n",
       "      <td>Automatic Drum Sound Description for Real-Worl...</td>\n",
       "      <td>This paper presents an automatic description s...</td>\n",
       "      <td>0.251745</td>\n",
       "    </tr>\n",
       "    <tr>\n",
       "      <th>4</th>\n",
       "      <td>ENST-Drums: an extensive audio-visual database...</td>\n",
       "      <td>… Keywords: Research database, Automatic drum ...</td>\n",
       "      <td>0.235338</td>\n",
       "    </tr>\n",
       "    <tr>\n",
       "      <th>13</th>\n",
       "      <td>Exploration of techniques for automatic labeli...</td>\n",
       "      <td>We report on the progress of current work rega...</td>\n",
       "      <td>0.203814</td>\n",
       "    </tr>\n",
       "    <tr>\n",
       "      <th>20</th>\n",
       "      <td>Automatic Drum Transcription Using the Student...</td>\n",
       "      <td>Automatic drum transcription is a sub-task of ...</td>\n",
       "      <td>0.195207</td>\n",
       "    </tr>\n",
       "    <tr>\n",
       "      <th>6</th>\n",
       "      <td>Automatic extraction of drum tracks from polyp...</td>\n",
       "      <td>We propose an approach for extracting automati...</td>\n",
       "      <td>0.167280</td>\n",
       "    </tr>\n",
       "    <tr>\n",
       "      <th>0</th>\n",
       "      <td>Automatic drum transcription and source separa...</td>\n",
       "      <td>While research has been carried out on automat...</td>\n",
       "      <td>0.162654</td>\n",
       "    </tr>\n",
       "    <tr>\n",
       "      <th>15</th>\n",
       "      <td>Automatic transcription of drum sequences usin...</td>\n",
       "      <td>The transcription of a musical performance fro...</td>\n",
       "      <td>0.153321</td>\n",
       "    </tr>\n",
       "    <tr>\n",
       "      <th>17</th>\n",
       "      <td>A review of automatic drum transcription</td>\n",
       "      <td>In Western popular music, drums and percussion...</td>\n",
       "      <td>0.133598</td>\n",
       "    </tr>\n",
       "  </tbody>\n",
       "</table>\n",
       "</div>"
      ],
      "text/plain": [
       "                                                Title  \\\n",
       "27                                                NaN   \n",
       "12  Automatic Drum Transcription for Polyphonic Re...   \n",
       "1   Automatic Drum Sound Description for Real-Worl...   \n",
       "4   ENST-Drums: an extensive audio-visual database...   \n",
       "13  Exploration of techniques for automatic labeli...   \n",
       "20  Automatic Drum Transcription Using the Student...   \n",
       "6   Automatic extraction of drum tracks from polyp...   \n",
       "0   Automatic drum transcription and source separa...   \n",
       "15  Automatic transcription of drum sequences usin...   \n",
       "17           A review of automatic drum transcription   \n",
       "\n",
       "                                             Abstract  similar_score  \n",
       "27                                                NaN       1.000000  \n",
       "12  Automatic drum transcription is the process of...       0.292948  \n",
       "1   This paper presents an automatic description s...       0.251745  \n",
       "4   … Keywords: Research database, Automatic drum ...       0.235338  \n",
       "13  We report on the progress of current work rega...       0.203814  \n",
       "20  Automatic drum transcription is a sub-task of ...       0.195207  \n",
       "6   We propose an approach for extracting automati...       0.167280  \n",
       "0   While research has been carried out on automat...       0.162654  \n",
       "15  The transcription of a musical performance fro...       0.153321  \n",
       "17  In Western popular music, drums and percussion...       0.133598  "
      ]
     },
     "execution_count": 11,
     "metadata": {},
     "output_type": "execute_result"
    }
   ],
   "source": [
    "recomPaper.head(10)"
   ]
  },
  {
   "cell_type": "code",
   "execution_count": 12,
   "metadata": {},
   "outputs": [],
   "source": [
    "# get the 50 papers with highest similarity\n",
    "recomPaper50 = recomPaper[:51]"
   ]
  },
  {
   "cell_type": "code",
   "execution_count": 13,
   "metadata": {},
   "outputs": [
    {
     "data": {
      "text/plain": [
       "(28, 3)"
      ]
     },
     "execution_count": 13,
     "metadata": {},
     "output_type": "execute_result"
    }
   ],
   "source": [
    "recomPaper50.shape"
   ]
  },
  {
   "cell_type": "code",
   "execution_count": 15,
   "metadata": {},
   "outputs": [],
   "source": [
    "recomPaper50 = recomPaper50.dropna().reset_index(drop=True)\n",
    "\n",
    "recomPaper50.to_csv(\"recomPapers50.csv\")"
   ]
  },
  {
   "cell_type": "code",
   "execution_count": null,
   "metadata": {},
   "outputs": [],
   "source": []
  }
 ],
 "metadata": {
  "kernelspec": {
   "display_name": "Python 3",
   "language": "python",
   "name": "python3"
  },
  "language_info": {
   "codemirror_mode": {
    "name": "ipython",
    "version": 3
   },
   "file_extension": ".py",
   "mimetype": "text/x-python",
   "name": "python",
   "nbconvert_exporter": "python",
   "pygments_lexer": "ipython3",
   "version": "3.7.1"
  }
 },
 "nbformat": 4,
 "nbformat_minor": 2
}
